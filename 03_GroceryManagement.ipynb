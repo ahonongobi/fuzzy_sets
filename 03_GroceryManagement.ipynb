{
 "cells": [
  {
   "cell_type": "markdown",
   "id": "cf918599ea66d53b",
   "metadata": {
    "collapsed": false
   },
   "source": [
    "# Structure for Customer Preference Analysis\n"
   ]
  },
  {
   "cell_type": "markdown",
   "id": "81f9a9d1-5670-4683-81f1-933b5ceeba54",
   "metadata": {},
   "source": [
    "**Name: Ahonon Gobi**"
   ]
  },
  {
   "cell_type": "markdown",
   "id": "1b64c3a5e385535b",
   "metadata": {
    "collapsed": false
   },
   "source": [
    "## Title: Customer Preference Analysis and Product Suggestions in Grocery Management Using Fuzzy Clustering\n"
   ]
  },
  {
   "cell_type": "markdown",
   "id": "4d38de8ad93617e9",
   "metadata": {
    "collapsed": false
   },
   "source": [
    "## Problem Definition\n",
    "Understanding customer preferences is crucial for optimizing inventory management, personalizing marketing strategies, and improving overall customer satisfaction. In this project, I aim to analyze a dataset of customer purchases to identify distinct groups of customers and suggest products that cater to their tastes.\n"
   ]
  },
  {
   "cell_type": "markdown",
   "id": "e5122e8fe2f371f9",
   "metadata": {
    "collapsed": false
   },
   "source": [
    "## Data Collection\n",
    "For this analysis, I will create a synthetic dataset that simulates customer purchasing behavior. The dataset will contain the following features:\n",
    "- `CustomerID`: Unique identifier for each customer.\n",
    "- `ProductA`, `ProductB`, `ProductC`, `ProductD`: Representing the preference ratings (1-5) for different products.\n"
   ]
  },
  {
   "cell_type": "markdown",
   "id": "f25c4bc5c23992cb",
   "metadata": {
    "collapsed": false
   },
   "source": [
    "### Data creation"
   ]
  },
  {
   "cell_type": "code",
   "execution_count": 8,
   "id": "38ce6e2d2cd42564",
   "metadata": {
    "collapsed": false,
    "ExecuteTime": {
     "end_time": "2024-10-13T10:59:23.934704Z",
     "start_time": "2024-10-13T10:59:23.921675Z"
    }
   },
   "outputs": [
    {
     "name": "stdout",
     "output_type": "stream",
     "text": [
      "   CustomerID  ProductA  ProductB  ProductC  ProductD\n",
      "0           1         5         1         2         3\n",
      "1           2         3         5         2         1\n",
      "2           3         4         4         5         2\n",
      "3           4         2         3         4         5\n",
      "4           5         1         2         3         4\n"
     ]
    }
   ],
   "source": [
    "import pandas as pd\n",
    "\n",
    "# Creating a synthetic dataset\n",
    "data = {\n",
    "    'CustomerID': [1, 2, 3, 4, 5],\n",
    "    'ProductA': [5, 3, 4, 2, 1],\n",
    "    'ProductB': [1, 5, 4, 3, 2],\n",
    "    'ProductC': [2, 2, 5, 4, 3],\n",
    "    'ProductD': [3, 1, 2, 5, 4]\n",
    "}\n",
    "df = pd.DataFrame(data)\n",
    "print(df)"
   ]
  },
  {
   "cell_type": "markdown",
   "id": "3f7eab1d-3b77-4b52-8b71-691a1169d374",
   "metadata": {
    "collapsed": false
   },
   "source": [
    "## Methods"
   ]
  },
  {
   "cell_type": "markdown",
   "id": "4963ed2d-fa6a-44c8-b06e-1f6751a2f27a",
   "metadata": {},
   "source": [
    "## Fuzzy C-Means Clustering\n",
    "I will apply the fuzzy c-means clustering algorithm to group customers based on their preferences. The steps involved are as follows:\n",
    "\n",
    "Data Preprocessing: Normalize the data to ensure uniformity in scale.\n",
    "Apply Fuzzy Clustering: Use the fuzzy c-means algorithm to classify customers into segments.\n"
   ]
  },
  {
   "cell_type": "code",
   "execution_count": 9,
   "id": "a62ab220-ebae-4049-ab99-f3c96361c90d",
   "metadata": {
    "ExecuteTime": {
     "end_time": "2024-10-13T10:59:26.211542Z",
     "start_time": "2024-10-13T10:59:23.964171Z"
    }
   },
   "outputs": [
    {
     "name": "stdout",
     "output_type": "stream",
     "text": [
      "Defaulting to user installation because normal site-packages is not writeable\r\n",
      "Requirement already satisfied: scikit-fuzzy in ./.local/lib/python3.10/site-packages (0.5.0)\r\n",
      "   CustomerID  ProductA  ProductB  ProductC  ProductD  Cluster\n",
      "0           1         5         1         2         3        1\n",
      "1           2         3         5         2         1        1\n",
      "2           3         4         4         5         2        1\n",
      "3           4         2         3         4         5        0\n",
      "4           5         1         2         3         4        0\n"
     ]
    }
   ],
   "source": [
    "!pip install scikit-fuzzy\n",
    "import numpy as np\n",
    "import skfuzzy as fuzz # This will work if scikit-fuzzy is installed\n",
    "import matplotlib.pyplot as plt\n",
    "\n",
    "# Preparing data for fuzzy clustering\n",
    "data_matrix = df.drop(columns=['CustomerID']).values.T  # Transpose for features\n",
    "\n",
    "# Applying fuzzy c-means clustering\n",
    "num_clusters = 2  # Define the number of clusters\n",
    "cntr, u, _, _, _, _, _ = fuzz.cluster.cmeans(data_matrix, num_clusters, 2, error=0.005, maxiter=1000)\n",
    "\n",
    "# Get the cluster assignments\n",
    "cluster_assignments = np.argmax(u, axis=0)\n",
    "df['Cluster'] = cluster_assignments\n",
    "print(df)"
   ]
  },
  {
   "cell_type": "markdown",
   "id": "87c414d0-343d-43b3-ba64-eb72797b2b59",
   "metadata": {},
   "source": [
    "### Plot\n",
    "\n",
    "I will visualize the clusters to better understand the customer segments."
   ]
  },
  {
   "cell_type": "code",
   "execution_count": 10,
   "id": "f6394fba-855c-4613-98ac-dc266c34e027",
   "metadata": {
    "ExecuteTime": {
     "end_time": "2024-10-13T10:59:26.581803Z",
     "start_time": "2024-10-13T10:59:26.215535Z"
    }
   },
   "outputs": [
    {
     "data": {
      "text/plain": "<Figure size 640x480 with 1 Axes>",
      "image/png": "[encoded data removed]"
     },
     "metadata": {},
     "output_type": "display_data"
    }
   ],
   "source": [
    "# Plotting the clusters\n",
    "for i in range(num_clusters):\n",
    "    plt.scatter(data_matrix[0][df['Cluster'] == i], data_matrix[1][df['Cluster'] == i], label=f'Cluster {i}')\n",
    "\n",
    "plt.title('Customer Preference Clusters')\n",
    "plt.xlabel('Product A Preference')\n",
    "plt.ylabel('Product B Preference')\n",
    "plt.legend()\n",
    "plt.show()\n"
   ]
  },
  {
   "cell_type": "markdown",
   "id": "3acc0864-42c6-48d5-9fd6-84e5febd9990",
   "metadata": {},
   "source": [
    "The clusters generated from the fuzzy c-means algorithm illustrate distinct groups of customers based on their preferences for different products. "
   ]
  },
  {
   "cell_type": "markdown",
   "id": "ce8f77f0-3746-4e35-b5ed-259ce9e3ad4d",
   "metadata": {},
   "source": [
    "### Recommendation System"
   ]
  },
  {
   "cell_type": "code",
   "execution_count": 11,
   "id": "f3dd30a5-0458-499c-9fe3-7b9af9c60262",
   "metadata": {
    "ExecuteTime": {
     "end_time": "2024-10-13T10:59:26.588676Z",
     "start_time": "2024-10-13T10:59:26.583508Z"
    }
   },
   "outputs": [
    {
     "name": "stdout",
     "output_type": "stream",
     "text": [
      "Recommendations based on clusters: {'Cluster 0': array([1.5, 2.5, 3.5, 4.5]), 'Cluster 1': array([4.        , 3.33333333, 3.        , 2.        ])}\n"
     ]
    }
   ],
   "source": [
    "# Generating product recommendations based on cluster centroids\n",
    "recommendations = {}\n",
    "for i in range(num_clusters):\n",
    "    recommendations[f'Cluster {i}'] = data_matrix[:, cluster_assignments == i].mean(axis=1)\n",
    "print(\"Recommendations based on clusters:\", recommendations)\n"
   ]
  },
  {
   "cell_type": "code",
   "execution_count": 11,
   "id": "906f856a-bd9b-4c16-b037-3c45b17899f9",
   "metadata": {
    "ExecuteTime": {
     "end_time": "2024-10-13T10:59:26.597581Z",
     "start_time": "2024-10-13T10:59:26.592382Z"
    }
   },
   "outputs": [],
   "source": []
  },
  {
   "cell_type": "code",
   "execution_count": 11,
   "id": "1b288b16-f890-41ff-a090-a9cd77bed0d9",
   "metadata": {
    "ExecuteTime": {
     "end_time": "2024-10-13T10:59:26.602216Z",
     "start_time": "2024-10-13T10:59:26.599696Z"
    }
   },
   "outputs": [],
   "source": []
  },
  {
   "cell_type": "code",
   "execution_count": 11,
   "id": "e45b02ba-46d0-4c97-b88f-9eb7f49a827c",
   "metadata": {
    "ExecuteTime": {
     "end_time": "2024-10-13T10:59:26.608163Z",
     "start_time": "2024-10-13T10:59:26.603874Z"
    }
   },
   "outputs": [],
   "source": []
  }
 ],
 "metadata": {
  "kernelspec": {
   "display_name": "Python 3 (ipykernel)",
   "language": "python",
   "name": "python3"
  },
  "language_info": {
   "codemirror_mode": {
    "name": "ipython",
    "version": 3
   },
   "file_extension": ".py",
   "mimetype": "text/x-python",
   "name": "python",
   "nbconvert_exporter": "python",
   "pygments_lexer": "ipython3",
   "version": "3.10.12"
  }
 },
 "nbformat": 4,
 "nbformat_minor": 5
}
